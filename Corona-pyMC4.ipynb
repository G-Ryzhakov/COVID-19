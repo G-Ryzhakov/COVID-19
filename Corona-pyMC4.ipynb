{
 "cells": [
  {
   "cell_type": "code",
   "execution_count": 1,
   "metadata": {
    "scrolled": true
   },
   "outputs": [],
   "source": [
    "#!pip install git+https://github.com/pymc-devs/pymc4\n",
    "# see pyMC4-install-howto.txt"
   ]
  },
  {
   "cell_type": "code",
   "execution_count": 2,
   "metadata": {
    "scrolled": true
   },
   "outputs": [],
   "source": [
    "import matplotlib.pyplot as plt\n",
    "import numpy as np\n",
    "import pymc4 as pm \n",
    "import tensorflow as tf\n",
    "import pandas as pd\n",
    "import arviz as az\n",
    "from numba import jit\n",
    "from scipy.integrate import odeint\n",
    "import tensorflow_scientific as tfs\n",
    "\n",
    "%matplotlib inline"
   ]
  },
  {
   "cell_type": "code",
   "execution_count": 3,
   "metadata": {
    "scrolled": true
   },
   "outputs": [
    {
     "data": {
      "text/html": [
       "<div>\n",
       "<style scoped>\n",
       "    .dataframe tbody tr th:only-of-type {\n",
       "        vertical-align: middle;\n",
       "    }\n",
       "\n",
       "    .dataframe tbody tr th {\n",
       "        vertical-align: top;\n",
       "    }\n",
       "\n",
       "    .dataframe thead th {\n",
       "        text-align: right;\n",
       "    }\n",
       "</style>\n",
       "<table border=\"1\" class=\"dataframe\">\n",
       "  <thead>\n",
       "    <tr style=\"text-align: right;\">\n",
       "      <th></th>\n",
       "      <th>State</th>\n",
       "      <th>Country</th>\n",
       "      <th>Lat</th>\n",
       "      <th>Long</th>\n",
       "      <th>1/22/20</th>\n",
       "      <th>1/23/20</th>\n",
       "      <th>1/24/20</th>\n",
       "      <th>1/25/20</th>\n",
       "      <th>1/26/20</th>\n",
       "      <th>1/27/20</th>\n",
       "      <th>...</th>\n",
       "      <th>3/30/20</th>\n",
       "      <th>3/31/20</th>\n",
       "      <th>4/1/20</th>\n",
       "      <th>4/2/20</th>\n",
       "      <th>4/3/20</th>\n",
       "      <th>4/4/20</th>\n",
       "      <th>4/5/20</th>\n",
       "      <th>4/6/20</th>\n",
       "      <th>4/7/20</th>\n",
       "      <th>4/8/20</th>\n",
       "    </tr>\n",
       "  </thead>\n",
       "  <tbody>\n",
       "    <tr>\n",
       "      <th>0</th>\n",
       "      <td>NaN</td>\n",
       "      <td>Afghanistan</td>\n",
       "      <td>33.0000</td>\n",
       "      <td>65.0000</td>\n",
       "      <td>0</td>\n",
       "      <td>0</td>\n",
       "      <td>0</td>\n",
       "      <td>0</td>\n",
       "      <td>0</td>\n",
       "      <td>0</td>\n",
       "      <td>...</td>\n",
       "      <td>170</td>\n",
       "      <td>174</td>\n",
       "      <td>237</td>\n",
       "      <td>273</td>\n",
       "      <td>281</td>\n",
       "      <td>299</td>\n",
       "      <td>349</td>\n",
       "      <td>367</td>\n",
       "      <td>423</td>\n",
       "      <td>444</td>\n",
       "    </tr>\n",
       "    <tr>\n",
       "      <th>1</th>\n",
       "      <td>NaN</td>\n",
       "      <td>Albania</td>\n",
       "      <td>41.1533</td>\n",
       "      <td>20.1683</td>\n",
       "      <td>0</td>\n",
       "      <td>0</td>\n",
       "      <td>0</td>\n",
       "      <td>0</td>\n",
       "      <td>0</td>\n",
       "      <td>0</td>\n",
       "      <td>...</td>\n",
       "      <td>223</td>\n",
       "      <td>243</td>\n",
       "      <td>259</td>\n",
       "      <td>277</td>\n",
       "      <td>304</td>\n",
       "      <td>333</td>\n",
       "      <td>361</td>\n",
       "      <td>377</td>\n",
       "      <td>383</td>\n",
       "      <td>400</td>\n",
       "    </tr>\n",
       "    <tr>\n",
       "      <th>2</th>\n",
       "      <td>NaN</td>\n",
       "      <td>Algeria</td>\n",
       "      <td>28.0339</td>\n",
       "      <td>1.6596</td>\n",
       "      <td>0</td>\n",
       "      <td>0</td>\n",
       "      <td>0</td>\n",
       "      <td>0</td>\n",
       "      <td>0</td>\n",
       "      <td>0</td>\n",
       "      <td>...</td>\n",
       "      <td>584</td>\n",
       "      <td>716</td>\n",
       "      <td>847</td>\n",
       "      <td>986</td>\n",
       "      <td>1171</td>\n",
       "      <td>1251</td>\n",
       "      <td>1320</td>\n",
       "      <td>1423</td>\n",
       "      <td>1468</td>\n",
       "      <td>1572</td>\n",
       "    </tr>\n",
       "    <tr>\n",
       "      <th>3</th>\n",
       "      <td>NaN</td>\n",
       "      <td>Andorra</td>\n",
       "      <td>42.5063</td>\n",
       "      <td>1.5218</td>\n",
       "      <td>0</td>\n",
       "      <td>0</td>\n",
       "      <td>0</td>\n",
       "      <td>0</td>\n",
       "      <td>0</td>\n",
       "      <td>0</td>\n",
       "      <td>...</td>\n",
       "      <td>370</td>\n",
       "      <td>376</td>\n",
       "      <td>390</td>\n",
       "      <td>428</td>\n",
       "      <td>439</td>\n",
       "      <td>466</td>\n",
       "      <td>501</td>\n",
       "      <td>525</td>\n",
       "      <td>545</td>\n",
       "      <td>564</td>\n",
       "    </tr>\n",
       "    <tr>\n",
       "      <th>4</th>\n",
       "      <td>NaN</td>\n",
       "      <td>Angola</td>\n",
       "      <td>-11.2027</td>\n",
       "      <td>17.8739</td>\n",
       "      <td>0</td>\n",
       "      <td>0</td>\n",
       "      <td>0</td>\n",
       "      <td>0</td>\n",
       "      <td>0</td>\n",
       "      <td>0</td>\n",
       "      <td>...</td>\n",
       "      <td>7</td>\n",
       "      <td>7</td>\n",
       "      <td>8</td>\n",
       "      <td>8</td>\n",
       "      <td>8</td>\n",
       "      <td>10</td>\n",
       "      <td>14</td>\n",
       "      <td>16</td>\n",
       "      <td>17</td>\n",
       "      <td>19</td>\n",
       "    </tr>\n",
       "  </tbody>\n",
       "</table>\n",
       "<p>5 rows × 82 columns</p>\n",
       "</div>"
      ],
      "text/plain": [
       "  State      Country      Lat     Long  1/22/20  1/23/20  1/24/20  1/25/20  \\\n",
       "0   NaN  Afghanistan  33.0000  65.0000        0        0        0        0   \n",
       "1   NaN      Albania  41.1533  20.1683        0        0        0        0   \n",
       "2   NaN      Algeria  28.0339   1.6596        0        0        0        0   \n",
       "3   NaN      Andorra  42.5063   1.5218        0        0        0        0   \n",
       "4   NaN       Angola -11.2027  17.8739        0        0        0        0   \n",
       "\n",
       "   1/26/20  1/27/20  ...  3/30/20  3/31/20  4/1/20  4/2/20  4/3/20  4/4/20  \\\n",
       "0        0        0  ...      170      174     237     273     281     299   \n",
       "1        0        0  ...      223      243     259     277     304     333   \n",
       "2        0        0  ...      584      716     847     986    1171    1251   \n",
       "3        0        0  ...      370      376     390     428     439     466   \n",
       "4        0        0  ...        7        7       8       8       8      10   \n",
       "\n",
       "   4/5/20  4/6/20  4/7/20  4/8/20  \n",
       "0     349     367     423     444  \n",
       "1     361     377     383     400  \n",
       "2    1320    1423    1468    1572  \n",
       "3     501     525     545     564  \n",
       "4      14      16      17      19  \n",
       "\n",
       "[5 rows x 82 columns]"
      ]
     },
     "execution_count": 3,
     "metadata": {},
     "output_type": "execute_result"
    }
   ],
   "source": [
    "online = True\n",
    "\n",
    "if online:\n",
    "    COVID_CONFIRMED_URL = 'https://raw.githubusercontent.com/CSSEGISandData/COVID-19/master/csse_covid_19_data/csse_covid_19_time_series/time_series_covid19_confirmed_global.csv'\n",
    "    COVID_DEATHS_URL = 'https://raw.githubusercontent.com/CSSEGISandData/COVID-19/master/csse_covid_19_data/csse_covid_19_time_series/time_series_covid19_deaths_global.csv'\n",
    "    COVID_RECOVERED_URL = 'https://raw.githubusercontent.com/CSSEGISandData/COVID-19/master/csse_covid_19_data/csse_covid_19_time_series/time_series_covid19_recovered_global.csv'\n",
    "else:\n",
    "    COVID_CONFIRMED_URL = 'COVID-19/csse_covid_19_data/csse_covid_19_time_series/time_series_covid19_confirmed_global.csv'\n",
    "    COVID_DEATHS_URL = 'COVID-19/csse_covid_19_data/csse_covid_19_time_series/time_series_covid19_deaths_global.csv'\n",
    "    COVID_RECOVERED_URL = 'COVID-19/csse_covid_19_data/csse_covid_19_time_series/time_series_covid19_recovered_global.csv'\n",
    "    \n",
    "\n",
    "\n",
    "covid_confirmed = pd.read_csv(COVID_CONFIRMED_URL)\n",
    "covid_deaths = pd.read_csv(COVID_DEATHS_URL)\n",
    "covid_recovered = pd.read_csv(COVID_RECOVERED_URL)\n",
    "\n",
    "covid_confirmed.rename(columns={'Country/Region':'Country'}, inplace=True)\n",
    "covid_deaths.rename(columns={'Country/Region':'Country'}, inplace=True)\n",
    "covid_recovered.rename(columns={'Country/Region':'Country'}, inplace=True)\n",
    "covid_confirmed.rename(columns={'Province/State':'State'}, inplace=True)\n",
    "covid_deaths.rename(columns={'Province/State':'State'}, inplace=True)\n",
    "covid_recovered.rename(columns={'Province/State':'State'}, inplace=True)\n",
    "\n",
    "\n",
    "covid_confirmed.head()"
   ]
  },
  {
   "cell_type": "code",
   "execution_count": 4,
   "metadata": {
    "scrolled": true
   },
   "outputs": [],
   "source": [
    "Country = 'Russia'\n",
    "population = {\"Russia\" : 146745098, \"Italy\" : 60317000, \"China\" : 1404328000}\n",
    "\n",
    "data_Russia_confirmed = covid_confirmed[covid_confirmed.Country == Country].values[0, 4:].astype(int)\n",
    "\n",
    "data = np.empty((3, data_Russia_confirmed.shape[0]), dtype=np.int64)\n",
    "data[0] = data_Russia_confirmed\n",
    "\n",
    "data[1] = covid_deaths   [covid_deaths.Country    == Country].values[0, 4:].astype(int)\n",
    "data[2] = covid_recovered[covid_recovered.Country == Country].values[0, 4:].astype(int)\n",
    "\n",
    "data_normed = data.astype(np.float64) / population[Country]\n",
    "data_normed_only_conf = data_normed[0] - data_normed[1] - data_normed[2]"
   ]
  },
  {
   "cell_type": "code",
   "execution_count": 5,
   "metadata": {
    "scrolled": false
   },
   "outputs": [
    {
     "data": {
      "image/png": "[encoded data removed]",
      "text/plain": [
       "<Figure size 432x288 with 1 Axes>"
      ]
     },
     "metadata": {
      "needs_background": "light"
     },
     "output_type": "display_data"
    },
    {
     "data": {
      "image/png": "[encoded data removed]",
      "text/plain": [
       "<Figure size 432x288 with 1 Axes>"
      ]
     },
     "metadata": {
      "needs_background": "light"
     },
     "output_type": "display_data"
    }
   ],
   "source": [
    "plt.plot(data.T);\n",
    "plt.figure()\n",
    "plt.plot(data_normed_only_conf);"
   ]
  },
  {
   "cell_type": "markdown",
   "metadata": {},
   "source": [
    "# The SIRX model, ODE"
   ]
  },
  {
   "cell_type": "code",
   "execution_count": 6,
   "metadata": {
    "scrolled": true
   },
   "outputs": [],
   "source": [
    "@jit\n",
    "def base_seir_model(init_vals, dt, N, params):\n",
    "    res = np.empty((N, 4), dtype=np.float64)\n",
    "    S = res[:, 0]\n",
    "    E = res[:, 1]\n",
    "    I = res[:, 2]\n",
    "    R = res[:, 3]\n",
    "    S[0], E[0], I[0], R[0] = init_vals\n",
    "    alpha, beta, gamma = params\n",
    "    for i in range(1, N):\n",
    "        S[i] = S[i-1] - (beta*S[i-1]*I[i-1])*dt\n",
    "        E[i] = E[i-1] + (beta*S[i-1]*I[i-1] - alpha*E[i-1])*dt\n",
    "        I[i] = I[i-1] + (alpha*E[i-1] - gamma*I[i-1])*dt\n",
    "        R[i] = R[i-1] + (gamma*I[i-1])*dt\n",
    "\n",
    "    #print(I)\n",
    "    return res\n",
    "\n",
    "\n",
    "def seir_rhs(y, t, alpha, beta, gamma):\n",
    "    S, E, I, R = y\n",
    "    return [-beta*S*I, beta*S*I - alpha*E, alpha*E - gamma*I, gamma*I]\n",
    "\n",
    "def base_seir_model_odeint(init_vals, dt, N, params):\n",
    "    t_max = N*dt\n",
    "    t = np.linspace(0, t_max, N + 1)\n",
    "    sol = odeint(seir_rhs, init_vals, t, args=params)\n",
    "    #return sol[::int(1/dt)]\n",
    "    return sol\n",
    "\n",
    "#@jit\n",
    "def sirx_rhs(x, t, alpha, beta, k0, k):\n",
    "    #print(x)\n",
    "    S, I, X, R = x\n",
    "    dsdt = -alpha*S*I - k0*S\n",
    "    didt = (alpha*S - beta - (k0 + k))*I\n",
    "    dxdt = (k0 + k)*I\n",
    "    dRdt = k0*S + beta*I\n",
    "    #return tf.Tensor([dsdt, didt, dxdt, dRdt], dtype=x.dtype)\n",
    "    return np.array([dsdt, didt, dxdt, dRdt], dtype=x.dtype)\n",
    "\n",
    "\n",
    "def base_sirx_model_rhs(x, params):\n",
    "    alpha, beta, k0, k = params\n",
    "    S, I, X, R = x\n",
    "    dsdt = -alpha*S*I - k0*S\n",
    "    didt = alpha*S*I - beta*I - k0*I - k*I\n",
    "    dxdt = (k0+k)*I\n",
    "    dRdt = k0*S + beta*I\n",
    "    return np.array([dsdt, didt, dxdt, dRdt])\n",
    "\n",
    "#@jit\n",
    "def base_sirx_model_odeint(init_vals, dt, N, params):\n",
    "    t_max = N*dt\n",
    "    t = np.linspace(0, t_max, N + 1)\n",
    "    sol = odeint(sirx_rhs, init_vals, t, args=params)\n",
    "    #sol[np.isnan(sol)] = 1e20\n",
    "    #sol[np.isinf(sol)] = 1e20\n",
    "    return sol"
   ]
  },
  {
   "cell_type": "code",
   "execution_count": 7,
   "metadata": {
    "scrolled": true
   },
   "outputs": [
    {
     "data": {
      "image/png": "[encoded data removed]",
      "text/plain": [
       "<Figure size 432x288 with 1 Axes>"
      ]
     },
     "metadata": {
      "needs_background": "light"
     },
     "output_type": "display_data"
    }
   ],
   "source": [
    "# Test SIRX\n",
    "t_max = 60\n",
    "dt = .1\n",
    "N = int(t_max / dt)\n",
    "t = np.linspace(0, t_max, N+1)\n",
    "\n",
    "x0 = np.array([1.0, 1e-8, 0.0, 0.0])\n",
    "beta = 0.38 #d^{-1}\n",
    "R0 = 3.07\n",
    "alpha = R0*beta\n",
    "k0 = 6e-2\n",
    "k = 5e-2\n",
    "\n",
    "params = alpha, beta, k0, k\n",
    "\n",
    "results = base_sirx_model_odeint(x0, dt, N, params)\n",
    "\n",
    "\n",
    "plt.plot(t, results[:, 1]);"
   ]
  },
  {
   "cell_type": "markdown",
   "metadata": {},
   "source": [
    "# Start MCMC"
   ]
  },
  {
   "cell_type": "code",
   "execution_count": 8,
   "metadata": {},
   "outputs": [],
   "source": [
    "true_vals = data_normed[0][data[0] >= 3]\n",
    "\n",
    "def sirx_rhs(x, t, alpha, beta, k0, k, istf=True):\n",
    "    #print(x)\n",
    "    #res = tf.zeros_like(x)\n",
    "    #S, I, X, R = x\n",
    "    S = x[0]\n",
    "    I = x[1]\n",
    "    X = x[2]\n",
    "    R = x[3]\n",
    "    dsdt = -alpha*S*I - k0*S\n",
    "    didt = (alpha*S - beta - (k0 + k))*I\n",
    "    dxdt = (k0 + k)*I\n",
    "    dRdt = k0*S + beta*I\n",
    "    #print([dsdt, didt, dxdt, dRdt])\n",
    "    if istf:\n",
    "        return tf.stack([ dsdt, didt, dxdt, dRdt ])\n",
    "    else:\n",
    "        return [dsdt, didt, dxdt, dRdt]\n",
    "\n",
    "\n",
    "def Runge_Kutta(rhs, x0, N, h=0.25):\n",
    "    res = [x0]\n",
    "    x = x0\n",
    "    h2 = h/2\n",
    "    for i in range(1, int(N/h) - 1): # -1 as we already have y0\n",
    "        k1 = rhs(x)\n",
    "        k2 = rhs(x + h2*k1)\n",
    "        k3 = rhs(x + h2*k2)\n",
    "        k4 = rhs(x + h*k3)\n",
    "        \n",
    "        x += h/6*(k1 + 2*k2 + 2*k3 + k4)\n",
    "        if abs(i*h - np.round(i*h)) < 1e-6: \n",
    "\n",
    "            res.append(x)\n",
    "    \n",
    "    return tf.stack(res)\n",
    "    \n",
    "\n",
    "@pm.model\n",
    "def sirx_model_odeint(true_vals):\n",
    "    alpha_MC = yield pm.Uniform(\"alpha_MC\", 1e-5, 2)\n",
    "    \n",
    "    beta_MC  = yield pm.Uniform(\"beta_MC\", 1e-5, 2)\n",
    "    k0_MC    = yield pm.Uniform(\"k0_MC\", 1e-7, 1)\n",
    "    k_MC     = yield pm.Uniform(\"k_MC\", 1e-7, 1)\n",
    "    I0_MC    = yield pm.Exponential(\"I0_MC\", 1e-6)\n",
    "    \n",
    "    num_days = len(true_vals)\n",
    "    t = tf.linspace(0.0, float(num_days - 1), num_days)\n",
    "    #t = np.linspace(float(0), float(num_days - 1), num_days)\n",
    "    init_vals = tf.stack([1.0 - (I0_MC + true_vals[0]), I0_MC, true_vals[0], 0.0])\n",
    "    \n",
    "    func = lambda x, t: sirx_rhs(x, t, alpha_MC, beta_MC, k0_MC, k_MC, istf=True)\n",
    "    sol = tfs.integrate.odeint(func, init_vals, t)[:, 2]\n",
    "#    print(sol.shape)\n",
    "    obs = tf.reshape(sol, [-1])\n",
    "    \n",
    "    I_MC     = yield pm.Normal(\"I_MC\", obs, 1e-8, observed=true_vals)\n",
    "    print(sol, type(sol))\n",
    "    print('near the end')\n",
    "    \n",
    "    print(I_MC, type(I_MC))\n",
    "    print('near the end 2')\n",
    "    return I_MC \n",
    "\n",
    "\n",
    "@pm.model\n",
    "def sirx_model(true_vals):\n",
    "    alpha_MC = yield pm.Uniform(\"alpha_MC\", 1e-5, 2)\n",
    "    \n",
    "    beta_MC  = yield pm.Uniform(\"beta_MC\", 1e-5, 2)\n",
    "    k0_MC    = yield pm.Uniform(\"k0_MC\", 1e-7, 1)\n",
    "    k_MC     = yield pm.Uniform(\"k_MC\", 1e-7, 1)\n",
    "    I0_MC    = yield pm.Exponential(\"I0_MC\", 1e-6)\n",
    "    \n",
    "    num_days = len(true_vals)\n",
    "    #t = tf.linspace(float(0), float(num_days - 1), num_days)\n",
    "    #t = np.linspace(float(0), float(num_days - 1), num_days)\n",
    "    init_vals = tf.stack([[1.0 - (I0_MC + true_vals[0])], [I0_MC], [true_vals[0]], [0.0]], axis=0)\n",
    "    init_vals = tf.reshape(init_vals, [-1])\n",
    "    \n",
    "    func = lambda x: sirx_rhs(x, None, alpha_MC, beta_MC, k0_MC, k_MC, istf=True)\n",
    "    print(\"input vars\", init_vals, init_vals.shape)\n",
    "    sol = Runge_Kutta(func, init_vals, num_days)[:, 2]\n",
    "    print(\"sol: \", sol)\n",
    "    obs = tf.reshape(sol, [-1])\n",
    "    \n",
    "    I_MC     = yield pm.Normal(\"I_MC\", obs, 1e-8, observed=true_vals)\n",
    "    #print(sol, type(sol))\n",
    "    #print('near the end')\n",
    "    \n",
    "    #print(I_MC, type(I_MC))\n",
    "    #print('near the end 2')\n",
    "    return I_MC \n"
   ]
  },
  {
   "cell_type": "code",
   "execution_count": 1,
   "metadata": {
    "scrolled": false
   },
   "outputs": [],
   "source": [
    "trace  = pm.sample(sirx_model(true_vals))"
   ]
  },
  {
   "cell_type": "code",
   "execution_count": null,
   "metadata": {},
   "outputs": [],
   "source": [
    "# with odeint it doesn't work!!!\n",
    "trace  = pm.sample(sirx_model_odeint(true_vals))"
   ]
  },
  {
   "cell_type": "code",
   "execution_count": null,
   "metadata": {},
   "outputs": [],
   "source": [
    "alpha_samples = trace['alpha_MC']\n",
    "beta_samples  = trace['beta_MC']\n",
    "k0_samples    = trace['k0_MC']\n",
    "k_samples     = trace['k_MC']\n",
    "I0_samples    = trace['I0_MC']\n",
    "\n",
    "\n",
    "\n",
    "plt.figure(figsize=(12.5, 6))\n",
    "\n",
    "# histogram of the samples:\n",
    "plt.subplot(311)\n",
    "plt.title(r\"Posterior distributions of the variables $\\alpha, \\beta, k_0$\")\n",
    "plt.hist(alpha_samples, histtype='stepfilled', bins=35, alpha=0.85,\n",
    "         label=r\"posterior of $\\alpha$\", color=\"#7A68A6\", density=True)\n",
    "plt.legend()\n",
    "\n",
    "plt.subplot(312)\n",
    "plt.hist(beta_samples, histtype='stepfilled', bins=35, alpha=0.85,\n",
    "         label=r\"posterior of $\\beta$\", color=\"#A60628\", density=True)\n",
    "plt.legend();\n",
    "\n",
    "plt.subplot(313)\n",
    "plt.hist(k0_samples, histtype='stepfilled', bins=35, alpha=0.85,\n",
    "         label=r\"posterior of $k_0$\", color=\"#467821\", density=True)\n",
    "plt.legend();\n",
    "\n",
    "\n",
    "plt.figure(figsize=(12.5, 6))\n",
    "\n",
    "plt.subplot(211)\n",
    "plt.title(r\"Posterior distributions of the variables $k, I_0$\")\n",
    "plt.hist(k_samples, histtype='stepfilled', bins=35, alpha=0.85,\n",
    "         label=r\"posterior of $k$\", color=\"#7A68A6\", density=True)\n",
    "plt.legend()\n",
    "\n",
    "plt.subplot(212)\n",
    "plt.hist(I0_samples, histtype='stepfilled', bins=35, alpha=0.85,\n",
    "         label=r\"posterior of $I_0$\", color=\"#A60628\", density=True)\n",
    "plt.legend();\n"
   ]
  },
  {
   "cell_type": "code",
   "execution_count": null,
   "metadata": {},
   "outputs": [],
   "source": []
  },
  {
   "cell_type": "markdown",
   "metadata": {},
   "source": [
    "# Further is not relevant (some exmaples)"
   ]
  },
  {
   "cell_type": "code",
   "execution_count": null,
   "metadata": {},
   "outputs": [],
   "source": [
    "1/0"
   ]
  },
  {
   "cell_type": "code",
   "execution_count": null,
   "metadata": {
    "scrolled": true
   },
   "outputs": [],
   "source": [
    "@pm.model\n",
    "def test_model():\n",
    "    alpha = yield pm.Normal(loc=0., scale=1, name='alpha')\n",
    "    beta  = yield pm.Normal(loc=alpha, scale=1, name='beta')\n",
    "\n",
    "\n",
    "model = test_model()\n",
    "\n"
   ]
  },
  {
   "cell_type": "code",
   "execution_count": null,
   "metadata": {
    "scrolled": true
   },
   "outputs": [],
   "source": [
    "res = pm.inference.sampling.sample(model)"
   ]
  },
  {
   "cell_type": "code",
   "execution_count": null,
   "metadata": {
    "scrolled": true
   },
   "outputs": [],
   "source": [
    "\n",
    "\n",
    "@pm.model\n",
    "def hierarchical_model(data, county_idx):\n",
    "    # Hyperpriors\n",
    "    mu_a = yield pm.Normal(loc=0., scale=1, name='mu_alpha')\n",
    "    sigma_a = yield pm.HalfCauchy(scale=1, name='sigma_alpha')\n",
    "    mu_b = yield pm.Normal(loc=0., scale=1, name='mu_beta')\n",
    "    sigma_b = yield pm.HalfCauchy(scale=1, name='sigma_beta')\n",
    "\n",
    "    # Intercept for each county, distributed around group mean mu_a\n",
    "    a = yield pm.Normal(loc=mu_a, scale=sigma_a, batch_stack=len(data.county.unique()),\n",
    "                        name='alpha')\n",
    "    # Intercept for each county, distributed around group mean mu_a\n",
    "    b = yield pm.Normal(loc=mu_b, scale=sigma_b, batch_stack=len(data.county.unique()),\n",
    "                        name='beta')\n",
    "\n",
    "    # Model error\n",
    "    eps = yield pm.HalfCauchy(scale=1, name='eps')\n",
    "\n",
    "    # Expected value\n",
    "    #radon_est = a[county_idx] + b[county_idx] * data.floor.values\n",
    "    radon_est = tf.gather(a, county_idx) + tf.gather(\n",
    "        b, county_idx) * data.floor.values\n",
    "\n",
    "    # Data likelihood\n",
    "    y_like = yield pm.Normal(loc=radon_est, scale=eps, observed=data.log_radon, name='y_like')\n",
    "\n"
   ]
  },
  {
   "cell_type": "code",
   "execution_count": null,
   "metadata": {
    "scrolled": true
   },
   "outputs": [],
   "source": [
    "def sample(model, init_num_chains=50, num_samples=500, burn_in=500):\n",
    "    init_num_chains = 50\n",
    "    pm4_trace, _ = pm.inference.sampling.sample(\n",
    "        model, num_chains=init_num_chains, num_samples=10, burn_in=10, step_size=1., xla=True)\n",
    "    for i in range(3):\n",
    "        step_size_ = []\n",
    "        for _, x in pm4_trace.items():\n",
    "            std = tf.math.reduce_std(x, axis=[0, 1])\n",
    "            step_size_.append(\n",
    "                std[tf.newaxis, ...] * tf.ones([init_num_chains] + std.shape, dtype=std.dtype))\n",
    "        pm4_trace, _ = pm.inference.sampling.sample(\n",
    "            model, num_chains=init_num_chains, num_samples=10 + 10*i, burn_in=10 + 10*i,\n",
    "            step_size=step_size_, xla=True)\n",
    "        \n",
    "    num_chains = 5\n",
    "    step_size_ = []\n",
    "    for _, x in pm4_trace.items():\n",
    "        std = tf.math.reduce_std(x, axis=[0, 1])\n",
    "        step_size_.append(\n",
    "            std[tf.newaxis, ...] * tf.ones([num_chains]+std.shape, dtype=std.dtype))\n",
    "\n",
    "    pm4_trace, sample_stat = pm.inference.sampling.sample(\n",
    "        model, num_chains=num_chains, num_samples=num_samples, burn_in=burn_in,\n",
    "        step_size=step_size_, xla=True)\n",
    "    \n",
    "    az_trace = pm.inference.utils.trace_to_arviz(pm4_trace, sample_stat)\n",
    "    \n",
    "    return az_trace\n",
    "\n"
   ]
  },
  {
   "cell_type": "code",
   "execution_count": null,
   "metadata": {
    "scrolled": true
   },
   "outputs": [],
   "source": [
    "res = pm.inference.sampling.sample(\n",
    "        model, num_chains=50, num_samples=10, burn_in=10, step_size=1., xla=True)"
   ]
  },
  {
   "cell_type": "code",
   "execution_count": null,
   "metadata": {},
   "outputs": [],
   "source": []
  }
 ],
 "metadata": {
  "kernelspec": {
   "display_name": "Python 3",
   "language": "python",
   "name": "python3"
  },
  "language_info": {
   "codemirror_mode": {
    "name": "ipython",
    "version": 3
   },
   "file_extension": ".py",
   "mimetype": "text/x-python",
   "name": "python",
   "nbconvert_exporter": "python",
   "pygments_lexer": "ipython3",
   "version": "3.7.6"
  }
 },
 "nbformat": 4,
 "nbformat_minor": 4
}
