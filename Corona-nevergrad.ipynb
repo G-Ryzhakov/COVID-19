{
 "cells": [
  {
   "cell_type": "markdown",
   "metadata": {
    "Collapsed": "false"
   },
   "source": [
    "## SIR-X model\n",
    "\n",
    "\n",
    "The SIR-X model http://rocs.hu-berlin.de/corona/docs/forecast/results_by_country/ is a simple but seems to be accurate model.\n",
    "\n",
    "The population is described by **S** (fraction of people suspectible to the infection), **I** (fraction of people infected and spreading the infection), (**R** which is neither suspectible nor infected), and **X** (the number of \"quarantineed\" people). \n",
    "\n",
    "$X$ is roughly the number of cases reported by each country. \n",
    "\n",
    "The equations describing the evolution of $S$, $I$, $R$ and $X$ are self-explanatory:\n",
    "\n",
    "$$\\frac{dS}{dt} = -\\alpha S I - k_0 S,  \\quad \\frac{dI}{dt} = \\alpha S I - \\beta I - k_0 I - k I, \n",
    "\\quad \\frac{dX}{dt} = - (k_0 + k) I, \\quad \\frac{dR}{dt} = k_0 S + \\beta I.$$\n",
    "\n",
    "The first equation controls the spread of the infection (the growth is proportional to the probability of meeting of $S$ and $I$), \n",
    "the constant $\\beta$ controls the recovery / death process (and is roughly $\\beta \\approx \\frac{1}{T}$, where $T$ is the characteristic time of the decease). \n",
    "\n",
    "The parameters $k_0$ and $k$ represent the measures taken: $k_0$ corresponds to social distancing / contract tracing, whereas $k$ controls the quarantine process for symptomatic individuals\n",
    "\n",
    "To fit the model, one has to find the parameters of it $\\alpha, \\beta, k_0, k$ and the initial number of infected individuals $I_0$ such that the $X(t)$ approximates the observed cases $C(t)$. The true number of potentially infected people $I(t)$ can be much larger. \n",
    "\n",
    "Several optimization techniques can be used. We tried gradient-free optimization package **nevergrad**, however, \n",
    "right now we are doing the Bayesian optimization in order to give not only the values of parameters, but also the risk values. \n",
    "\n",
    "\n",
    "The data collection below is taken form a nice [Google Colab notebook](https://colab.research.google.com/drive/15R6bXKW--TSMXClMfHql8zU0ePOLEoa3)"
   ]
  },
  {
   "cell_type": "code",
   "execution_count": 1,
   "metadata": {
    "Collapsed": "false"
   },
   "outputs": [],
   "source": [
    "import numpy as np\n",
    "import pandas as pd\n",
    "import matplotlib.pyplot as plt\n",
    "from numba import jit\n",
    "#import pymc as pm\n",
    "from scipy.integrate import odeint\n",
    "\n",
    "%matplotlib inline"
   ]
  },
  {
   "cell_type": "code",
   "execution_count": 2,
   "metadata": {
    "Collapsed": "false"
   },
   "outputs": [
    {
     "data": {
      "text/html": [
       "<div>\n",
       "<style scoped>\n",
       "    .dataframe tbody tr th:only-of-type {\n",
       "        vertical-align: middle;\n",
       "    }\n",
       "\n",
       "    .dataframe tbody tr th {\n",
       "        vertical-align: top;\n",
       "    }\n",
       "\n",
       "    .dataframe thead th {\n",
       "        text-align: right;\n",
       "    }\n",
       "</style>\n",
       "<table border=\"1\" class=\"dataframe\">\n",
       "  <thead>\n",
       "    <tr style=\"text-align: right;\">\n",
       "      <th></th>\n",
       "      <th>State</th>\n",
       "      <th>Country</th>\n",
       "      <th>Lat</th>\n",
       "      <th>Long</th>\n",
       "      <th>1/22/20</th>\n",
       "      <th>1/23/20</th>\n",
       "      <th>1/24/20</th>\n",
       "      <th>1/25/20</th>\n",
       "      <th>1/26/20</th>\n",
       "      <th>1/27/20</th>\n",
       "      <th>...</th>\n",
       "      <th>3/23/20</th>\n",
       "      <th>3/24/20</th>\n",
       "      <th>3/25/20</th>\n",
       "      <th>3/26/20</th>\n",
       "      <th>3/27/20</th>\n",
       "      <th>3/28/20</th>\n",
       "      <th>3/29/20</th>\n",
       "      <th>3/30/20</th>\n",
       "      <th>3/31/20</th>\n",
       "      <th>4/1/20</th>\n",
       "    </tr>\n",
       "  </thead>\n",
       "  <tbody>\n",
       "    <tr>\n",
       "      <td>0</td>\n",
       "      <td>NaN</td>\n",
       "      <td>Afghanistan</td>\n",
       "      <td>33.0000</td>\n",
       "      <td>65.0000</td>\n",
       "      <td>0</td>\n",
       "      <td>0</td>\n",
       "      <td>0</td>\n",
       "      <td>0</td>\n",
       "      <td>0</td>\n",
       "      <td>0</td>\n",
       "      <td>...</td>\n",
       "      <td>40</td>\n",
       "      <td>74</td>\n",
       "      <td>84</td>\n",
       "      <td>94</td>\n",
       "      <td>110</td>\n",
       "      <td>110</td>\n",
       "      <td>120</td>\n",
       "      <td>170</td>\n",
       "      <td>174</td>\n",
       "      <td>237</td>\n",
       "    </tr>\n",
       "    <tr>\n",
       "      <td>1</td>\n",
       "      <td>NaN</td>\n",
       "      <td>Albania</td>\n",
       "      <td>41.1533</td>\n",
       "      <td>20.1683</td>\n",
       "      <td>0</td>\n",
       "      <td>0</td>\n",
       "      <td>0</td>\n",
       "      <td>0</td>\n",
       "      <td>0</td>\n",
       "      <td>0</td>\n",
       "      <td>...</td>\n",
       "      <td>104</td>\n",
       "      <td>123</td>\n",
       "      <td>146</td>\n",
       "      <td>174</td>\n",
       "      <td>186</td>\n",
       "      <td>197</td>\n",
       "      <td>212</td>\n",
       "      <td>223</td>\n",
       "      <td>243</td>\n",
       "      <td>259</td>\n",
       "    </tr>\n",
       "    <tr>\n",
       "      <td>2</td>\n",
       "      <td>NaN</td>\n",
       "      <td>Algeria</td>\n",
       "      <td>28.0339</td>\n",
       "      <td>1.6596</td>\n",
       "      <td>0</td>\n",
       "      <td>0</td>\n",
       "      <td>0</td>\n",
       "      <td>0</td>\n",
       "      <td>0</td>\n",
       "      <td>0</td>\n",
       "      <td>...</td>\n",
       "      <td>230</td>\n",
       "      <td>264</td>\n",
       "      <td>302</td>\n",
       "      <td>367</td>\n",
       "      <td>409</td>\n",
       "      <td>454</td>\n",
       "      <td>511</td>\n",
       "      <td>584</td>\n",
       "      <td>716</td>\n",
       "      <td>847</td>\n",
       "    </tr>\n",
       "    <tr>\n",
       "      <td>3</td>\n",
       "      <td>NaN</td>\n",
       "      <td>Andorra</td>\n",
       "      <td>42.5063</td>\n",
       "      <td>1.5218</td>\n",
       "      <td>0</td>\n",
       "      <td>0</td>\n",
       "      <td>0</td>\n",
       "      <td>0</td>\n",
       "      <td>0</td>\n",
       "      <td>0</td>\n",
       "      <td>...</td>\n",
       "      <td>133</td>\n",
       "      <td>164</td>\n",
       "      <td>188</td>\n",
       "      <td>224</td>\n",
       "      <td>267</td>\n",
       "      <td>308</td>\n",
       "      <td>334</td>\n",
       "      <td>370</td>\n",
       "      <td>376</td>\n",
       "      <td>390</td>\n",
       "    </tr>\n",
       "    <tr>\n",
       "      <td>4</td>\n",
       "      <td>NaN</td>\n",
       "      <td>Angola</td>\n",
       "      <td>-11.2027</td>\n",
       "      <td>17.8739</td>\n",
       "      <td>0</td>\n",
       "      <td>0</td>\n",
       "      <td>0</td>\n",
       "      <td>0</td>\n",
       "      <td>0</td>\n",
       "      <td>0</td>\n",
       "      <td>...</td>\n",
       "      <td>3</td>\n",
       "      <td>3</td>\n",
       "      <td>3</td>\n",
       "      <td>4</td>\n",
       "      <td>4</td>\n",
       "      <td>5</td>\n",
       "      <td>7</td>\n",
       "      <td>7</td>\n",
       "      <td>7</td>\n",
       "      <td>8</td>\n",
       "    </tr>\n",
       "  </tbody>\n",
       "</table>\n",
       "<p>5 rows × 75 columns</p>\n",
       "</div>"
      ],
      "text/plain": [
       "  State      Country      Lat     Long  1/22/20  1/23/20  1/24/20  1/25/20  \\\n",
       "0   NaN  Afghanistan  33.0000  65.0000        0        0        0        0   \n",
       "1   NaN      Albania  41.1533  20.1683        0        0        0        0   \n",
       "2   NaN      Algeria  28.0339   1.6596        0        0        0        0   \n",
       "3   NaN      Andorra  42.5063   1.5218        0        0        0        0   \n",
       "4   NaN       Angola -11.2027  17.8739        0        0        0        0   \n",
       "\n",
       "   1/26/20  1/27/20  ...  3/23/20  3/24/20  3/25/20  3/26/20  3/27/20  \\\n",
       "0        0        0  ...       40       74       84       94      110   \n",
       "1        0        0  ...      104      123      146      174      186   \n",
       "2        0        0  ...      230      264      302      367      409   \n",
       "3        0        0  ...      133      164      188      224      267   \n",
       "4        0        0  ...        3        3        3        4        4   \n",
       "\n",
       "   3/28/20  3/29/20  3/30/20  3/31/20  4/1/20  \n",
       "0      110      120      170      174     237  \n",
       "1      197      212      223      243     259  \n",
       "2      454      511      584      716     847  \n",
       "3      308      334      370      376     390  \n",
       "4        5        7        7        7       8  \n",
       "\n",
       "[5 rows x 75 columns]"
      ]
     },
     "execution_count": 2,
     "metadata": {},
     "output_type": "execute_result"
    }
   ],
   "source": [
    "online = True\n",
    "\n",
    "if online:\n",
    "    COVID_CONFIRMED_URL = 'https://raw.githubusercontent.com/CSSEGISandData/COVID-19/master/csse_covid_19_data/csse_covid_19_time_series/time_series_covid19_confirmed_global.csv'\n",
    "    COVID_DEATHS_URL = 'https://raw.githubusercontent.com/CSSEGISandData/COVID-19/master/csse_covid_19_data/csse_covid_19_time_series/time_series_covid19_deaths_global.csv'\n",
    "    COVID_RECOVERED_URL = 'https://raw.githubusercontent.com/CSSEGISandData/COVID-19/master/csse_covid_19_data/csse_covid_19_time_series/time_series_covid19_recovered_global.csv'\n",
    "else:\n",
    "    COVID_CONFIRMED_URL = 'COVID-19/csse_covid_19_data/csse_covid_19_time_series/time_series_covid19_confirmed_global.csv'\n",
    "    COVID_DEATHS_URL = 'COVID-19/csse_covid_19_data/csse_covid_19_time_series/time_series_covid19_deaths_global.csv'\n",
    "    COVID_RECOVERED_URL = 'COVID-19/csse_covid_19_data/csse_covid_19_time_series/time_series_covid19_recovered_global.csv'\n",
    "    \n",
    "\n",
    "\n",
    "covid_confirmed = pd.read_csv(COVID_CONFIRMED_URL)\n",
    "covid_deaths = pd.read_csv(COVID_DEATHS_URL)\n",
    "covid_recovered = pd.read_csv(COVID_RECOVERED_URL)\n",
    "\n",
    "covid_confirmed.rename(columns={'Country/Region':'Country'}, inplace=True)\n",
    "covid_deaths.rename(columns={'Country/Region':'Country'}, inplace=True)\n",
    "covid_recovered.rename(columns={'Country/Region':'Country'}, inplace=True)\n",
    "covid_confirmed.rename(columns={'Province/State':'State'}, inplace=True)\n",
    "covid_deaths.rename(columns={'Province/State':'State'}, inplace=True)\n",
    "covid_recovered.rename(columns={'Province/State':'State'}, inplace=True)\n",
    "\n",
    "\n",
    "covid_confirmed.head()"
   ]
  },
  {
   "cell_type": "code",
   "execution_count": 3,
   "metadata": {
    "Collapsed": "false"
   },
   "outputs": [],
   "source": [
    "Country = 'Russia'\n",
    "population = {\"Russia\" : 146745098, \"Italy\" : 60317000, \"China\" : 1404328000}\n",
    "\n",
    "data_Russia_confirmed = covid_confirmed[covid_confirmed.Country == Country].values[0, 4:].astype(int)\n",
    "\n",
    "data = np.empty((3, data_Russia_confirmed.shape[0]), dtype=np.int64)\n",
    "data[0] = data_Russia_confirmed\n",
    "\n",
    "data[1] = covid_deaths   [covid_deaths.Country    == Country].values[0, 4:].astype(int)\n",
    "data[2] = covid_recovered[covid_recovered.Country == Country].values[0, 4:].astype(int)\n",
    "\n",
    "data_normed = data.astype(np.float64) / population[Country]\n",
    "data_normed_only_conf = data_normed[0] - data_normed[1] - data_normed[2]"
   ]
  },
  {
   "cell_type": "code",
   "execution_count": 4,
   "metadata": {
    "Collapsed": "false"
   },
   "outputs": [
    {
     "data": {
      "image/png": "[encoded data removed]",
      "text/plain": [
       "<Figure size 432x288 with 1 Axes>"
      ]
     },
     "metadata": {},
     "output_type": "display_data"
    },
    {
     "data": {
      "image/png": "[encoded data removed]",
      "text/plain": [
       "<Figure size 432x288 with 1 Axes>"
      ]
     },
     "metadata": {},
     "output_type": "display_data"
    }
   ],
   "source": [
    "plt.plot(data.T);\n",
    "plt.figure()\n",
    "plt.plot(data_normed_only_conf);"
   ]
  },
  {
   "cell_type": "code",
   "execution_count": 5,
   "metadata": {
    "Collapsed": "false"
   },
   "outputs": [],
   "source": [
    "@jit\n",
    "def base_seir_model(init_vals, dt, N, params):\n",
    "    res = np.empty((N, 4), dtype=np.float64)\n",
    "    S = res[:, 0]\n",
    "    E = res[:, 1]\n",
    "    I = res[:, 2]\n",
    "    R = res[:, 3]\n",
    "    S[0], E[0], I[0], R[0] = init_vals\n",
    "    alpha, beta, gamma = params\n",
    "    for i in range(1, N):\n",
    "        S[i] = S[i-1] - (beta*S[i-1]*I[i-1])*dt\n",
    "        E[i] = E[i-1] + (beta*S[i-1]*I[i-1] - alpha*E[i-1])*dt\n",
    "        I[i] = I[i-1] + (alpha*E[i-1] - gamma*I[i-1])*dt\n",
    "        R[i] = R[i-1] + (gamma*I[i-1])*dt\n",
    "\n",
    "    #print(I)\n",
    "    return res\n",
    "\n",
    "\n",
    "def seir_rhs(y, t, alpha, beta, gamma):\n",
    "    S, E, I, R = y\n",
    "    return [-beta*S*I, beta*S*I - alpha*E, alpha*E - gamma*I, gamma*I]\n",
    "\n",
    "def base_seir_model_odeint(init_vals, dt, N, params):\n",
    "    t_max = N*dt\n",
    "    t = np.linspace(0, t_max, N + 1)\n",
    "    sol = odeint(seir_rhs, init_vals, t, args=params)\n",
    "    #return sol[::int(1/dt)]\n",
    "    return sol\n",
    "\n",
    "@jit\n",
    "def sirx_rhs(x, t, alpha, beta, k0, k):\n",
    "    S, I, X, R = x\n",
    "    dsdt = -alpha*S*I - k0*S\n",
    "    didt = (alpha*S - beta - (k0 + k))*I\n",
    "    dxdt = (k0 + k)*I\n",
    "    dRdt = k0*S + beta*I\n",
    "    return np.array([dsdt, didt, dxdt, dRdt])\n",
    "\n",
    "\n",
    "def base_sirx_model_rhs(x, params):\n",
    "    alpha, beta, k0, k = params\n",
    "    S, I, X, R = x\n",
    "    dsdt = -alpha*S*I - k0*S\n",
    "    didt = alpha*S*I - beta*I - k0*I - k*I\n",
    "    dxdt = (k0+k)*I\n",
    "    dRdt = k0*S + beta*I\n",
    "    return np.array([dsdt, didt, dxdt, dRdt])\n",
    "\n",
    "#@jit\n",
    "def base_sirx_model_odeint(init_vals, dt, N, params):\n",
    "    t_max = N*dt\n",
    "    t = np.linspace(0, t_max, N + 1)\n",
    "    sol = odeint(sirx_rhs, init_vals, t, args=params)\n",
    "    #sol[np.isnan(sol)] = 1e20\n",
    "    #sol[np.isinf(sol)] = 1e20\n",
    "    return sol\n",
    "\n",
    "\n",
    "\n",
    "# SIR Model (not working)\n",
    "@jit\n",
    "def base_sirf_model(init_vals, dt, N, params):\n",
    "    res = np.empty((N, 3), dtype=np.float64)\n",
    "    y = res[:, 0]\n",
    "    E = res[:, 1]\n",
    "    I = res[:, 2]\n",
    "    R = res[:, 3]\n",
    "    S[0], E[0], I[0], R[0] = init_vals\n",
    "    alpha, beta, gamma = params\n",
    "    for i in range(1, N):\n",
    "        S[i] = S[i-1] - (beta*S[i-1]*I[i-1])*dt\n",
    "        E[i] = E[i-1] + (beta*S[i-1]*I[i-1] - alpha*E[i-1])*dt\n",
    "        I[i] = I[i-1] + (alpha*E[i-1] - gamma*I[i-1])*dt\n",
    "        R[i] = R[i-1] + (gamma*I[i-1])*dt\n",
    "\n",
    "    return res\n"
   ]
  },
  {
   "cell_type": "code",
   "execution_count": 7,
   "metadata": {
    "Collapsed": "false"
   },
   "outputs": [],
   "source": [
    "#vals = []\n",
    "\n",
    "data1 = data[0]\n",
    "data1 = data1[data1>=3]\n",
    "data1 = data1/population[Country]\n",
    "#plt.plot(data1)\n",
    "\n",
    "#true_cases = data_normed_only_conf[-20:]\n",
    "#true_cases = data_normed_only_conf[data[0] >= 3]\n",
    "#true_cases = data_normed[0][data[0] >= 3]\n",
    "true_cases = data1\n",
    "\n",
    "\n",
    "def obs(alpha_MC, beta_MC, k0_MC, k_MC, I0_MC, cf = 1, N = len(true_cases), type_ret=2):\n",
    "        # N is number of points (days)\n",
    "        #global vals\n",
    "        dt = 1.0/cf\n",
    "        num = (N-1)*cf\n",
    "        res = base_sirx_model_odeint((1.0 - (I0_MC + true_cases[0]), I0_MC, true_cases[0], 0.0), dt, num, (alpha_MC, beta_MC, k0_MC, k_MC))\n",
    "        rr = res.T[type_ret][::cf]\n",
    "        #print(rr)\n",
    "        #vals.append(rr)\n",
    "        return rr\n",
    "    \n",
    "\n",
    "def loss_fn(alpha, beta, k0, k, I0):\n",
    "#def loss_fn(x):\n",
    "#    alpha, beta, k0, k, I0 = x\n",
    "    loss_val = np.linalg.norm( obs(alpha, beta, k0, k, I0) - true_cases )\n",
    "#    if np.isnan(loss_val) or np.isinf(loss_val):\n",
    "#        loss_val = 1e100\n",
    "    return loss_val\n",
    "\n",
    "_ = \"\"\"\n",
    "num_days = len(true_cases)-1\n",
    "times = np.linspace(0, num_days, num_days+1)\n",
    "\n",
    "def compute_fit(alpha, beta, k0, k, I0):\n",
    "    params = np.array([alpha, beta, k0, k])\n",
    "    x0 = np.array([1.0, I0, true_cases[0], 0.0])\n",
    "    rhs = lambda x, t: base_sirx_model_rhs(x, params)\n",
    "    sol = odeint(rhs, x0, times)\n",
    "    predicted_cases = sol[:, 2]\n",
    "    return np.linalg.norm(true_cases-predicted_cases)\n",
    "\n",
    "\n",
    "def predict(alpha, beta, I0, k0, k, num_days):\n",
    "    times = np.linspace(0, num_days, num_days+1)\n",
    "    params = np.array([alpha, beta, k0, k])\n",
    "    x0 = np.array([1.0, I0, true_cases[0], 0.0])\n",
    "    rhs = lambda x, t: base_sirx_model_rhs(x, params)\n",
    "    sol = odeint(rhs, x0, times)\n",
    "    return sol\n",
    "\n",
    "\"\"\""
   ]
  },
  {
   "cell_type": "code",
   "execution_count": 8,
   "metadata": {
    "Collapsed": "false"
   },
   "outputs": [],
   "source": [
    "import nevergrad as ng"
   ]
  },
  {
   "cell_type": "code",
   "execution_count": 9,
   "metadata": {
    "Collapsed": "false"
   },
   "outputs": [
    {
     "name": "stdout",
     "output_type": "stream",
     "text": [
      ".\n",
      "(4_w,8)-aCMA-ES (mu_w=2.6,w_1=52%) in dimension 5 (seed=<module 'time' (built-in)>, Thu Apr  2 19:51:17 2020)\n"
     ]
    },
    {
     "name": "stderr",
     "output_type": "stream",
     "text": [
      "/Users/ivanoseledets/miniconda3/envs/pytorch/lib/python3.6/site-packages/nevergrad/parametrization/data.py:234: UserWarning: Bounds are 1.95 sigma away from each other at the closest, you should aim for at least 3 for better quality.\n",
      "  warnings.warn(f\"Bounds are {min_dist} sigma away from each other at the closest, \"\n",
      "/Users/ivanoseledets/miniconda3/envs/pytorch/lib/python3.6/site-packages/nevergrad/parametrization/data.py:234: UserWarning: Bounds are 0.0001 sigma away from each other at the closest, you should aim for at least 3 for better quality.\n",
      "  warnings.warn(f\"Bounds are {min_dist} sigma away from each other at the closest, \"\n",
      "/Users/ivanoseledets/miniconda3/envs/pytorch/lib/python3.6/site-packages/nevergrad/parametrization/data.py:234: UserWarning: Bounds are 0.1 sigma away from each other at the closest, you should aim for at least 3 for better quality.\n",
      "  warnings.warn(f\"Bounds are {min_dist} sigma away from each other at the closest, \"\n",
      "/Users/ivanoseledets/miniconda3/envs/pytorch/lib/python3.6/site-packages/nevergrad/optimization/base.py:410: InefficientSettingsWarning: num_workers = 6 > 1 is suboptimal when run sequentially\n",
      "  warnings.warn(f\"num_workers = {self.num_workers} > 1 is suboptimal when run sequentially\", InefficientSettingsWarning)\n",
      "/Users/ivanoseledets/miniconda3/envs/pytorch/lib/python3.6/site-packages/cma/utilities/utils.py:333: UserWarning: \n",
      "        geno-pheno transformation introduced based on the\n",
      "        current covariance matrix with condition 1.6e+12 -> 1.0e+00,\n",
      "        injected solutions become \"invalid\" in this iteration (class=CMAEvolutionStrategy method=alleviate_conditioning iteration=349)\n",
      "  ')')\n"
     ]
    },
    {
     "ename": "KeyboardInterrupt",
     "evalue": "",
     "output_type": "error",
     "traceback": [
      "\u001b[0;31m---------------------------------------------------------------------------\u001b[0m",
      "\u001b[0;31mKeyboardInterrupt\u001b[0m                         Traceback (most recent call last)",
      "\u001b[0;32m<ipython-input-9-637047763b45>\u001b[0m in \u001b[0;36m<module>\u001b[0;34m()\u001b[0m\n\u001b[1;32m     40\u001b[0m \u001b[0;32mfor\u001b[0m \u001b[0m_\u001b[0m \u001b[0;32min\u001b[0m \u001b[0mrange\u001b[0m\u001b[0;34m(\u001b[0m\u001b[0;36m30\u001b[0m\u001b[0;34m)\u001b[0m\u001b[0;34m:\u001b[0m\u001b[0;34m\u001b[0m\u001b[0;34m\u001b[0m\u001b[0m\n\u001b[1;32m     41\u001b[0m     \u001b[0mprint\u001b[0m\u001b[0;34m(\u001b[0m\u001b[0;34m'.'\u001b[0m\u001b[0;34m)\u001b[0m\u001b[0;34m\u001b[0m\u001b[0;34m\u001b[0m\u001b[0m\n\u001b[0;32m---> 42\u001b[0;31m     \u001b[0mrecommendation\u001b[0m \u001b[0;34m=\u001b[0m \u001b[0moptimize\u001b[0m\u001b[0;34m(\u001b[0m\u001b[0;34m)\u001b[0m\u001b[0;34m\u001b[0m\u001b[0;34m\u001b[0m\u001b[0m\n\u001b[0m\u001b[1;32m     43\u001b[0m     \u001b[0merr\u001b[0m \u001b[0;34m=\u001b[0m \u001b[0mloss_fn\u001b[0m\u001b[0;34m(\u001b[0m\u001b[0;34m*\u001b[0m\u001b[0mrecommendation\u001b[0m\u001b[0;34m.\u001b[0m\u001b[0mvalue\u001b[0m\u001b[0;34m[\u001b[0m\u001b[0;36m0\u001b[0m\u001b[0;34m]\u001b[0m\u001b[0;34m)\u001b[0m\u001b[0;34m\u001b[0m\u001b[0;34m\u001b[0m\u001b[0m\n\u001b[1;32m     44\u001b[0m     \u001b[0;32mif\u001b[0m \u001b[0merr\u001b[0m \u001b[0;34m<\u001b[0m \u001b[0mmax_err\u001b[0m\u001b[0;34m:\u001b[0m\u001b[0;34m\u001b[0m\u001b[0;34m\u001b[0m\u001b[0m\n",
      "\u001b[0;32m<ipython-input-9-637047763b45>\u001b[0m in \u001b[0;36moptimize\u001b[0;34m()\u001b[0m\n\u001b[1;32m     33\u001b[0m     \u001b[0;31m#optimizer = ng.optimizers.CMA(parametrization=instru, budget=500000)\u001b[0m\u001b[0;34m\u001b[0m\u001b[0;34m\u001b[0m\u001b[0;34m\u001b[0m\u001b[0m\n\u001b[1;32m     34\u001b[0m \u001b[0;34m\u001b[0m\u001b[0m\n\u001b[0;32m---> 35\u001b[0;31m     \u001b[0mrecommendation\u001b[0m \u001b[0;34m=\u001b[0m \u001b[0moptimizer\u001b[0m\u001b[0;34m.\u001b[0m\u001b[0mminimize\u001b[0m\u001b[0;34m(\u001b[0m\u001b[0mloss_fn\u001b[0m\u001b[0;34m)\u001b[0m\u001b[0;34m\u001b[0m\u001b[0;34m\u001b[0m\u001b[0m\n\u001b[0m\u001b[1;32m     36\u001b[0m     \u001b[0;31m#recommendation = optimizer.minimize(compute_fit)\u001b[0m\u001b[0;34m\u001b[0m\u001b[0;34m\u001b[0m\u001b[0;34m\u001b[0m\u001b[0m\n\u001b[1;32m     37\u001b[0m     \u001b[0;32mreturn\u001b[0m \u001b[0mrecommendation\u001b[0m\u001b[0;34m\u001b[0m\u001b[0;34m\u001b[0m\u001b[0m\n",
      "\u001b[0;32m~/miniconda3/envs/pytorch/lib/python3.6/site-packages/nevergrad/optimization/base.py\u001b[0m in \u001b[0;36mminimize\u001b[0;34m(self, objective_function, executor, batch_mode, verbosity)\u001b[0m\n\u001b[1;32m    436\u001b[0m                     \u001b[0;32mif\u001b[0m \u001b[0mmultiobjective\u001b[0m\u001b[0;34m:\u001b[0m  \u001b[0;31m# hack\u001b[0m\u001b[0;34m\u001b[0m\u001b[0;34m\u001b[0m\u001b[0m\n\u001b[1;32m    437\u001b[0m                         \u001b[0mresult\u001b[0m \u001b[0;34m=\u001b[0m \u001b[0mobjective_function\u001b[0m\u001b[0;34m.\u001b[0m\u001b[0mcompute_aggregate_loss\u001b[0m\u001b[0;34m(\u001b[0m\u001b[0mjob\u001b[0m\u001b[0;34m.\u001b[0m\u001b[0mresult\u001b[0m\u001b[0;34m(\u001b[0m\u001b[0;34m)\u001b[0m\u001b[0;34m,\u001b[0m \u001b[0;34m*\u001b[0m\u001b[0mx\u001b[0m\u001b[0;34m.\u001b[0m\u001b[0margs\u001b[0m\u001b[0;34m,\u001b[0m \u001b[0;34m**\u001b[0m\u001b[0mx\u001b[0m\u001b[0;34m.\u001b[0m\u001b[0mkwargs\u001b[0m\u001b[0;34m)\u001b[0m  \u001b[0;31m# type: ignore\u001b[0m\u001b[0;34m\u001b[0m\u001b[0;34m\u001b[0m\u001b[0m\n\u001b[0;32m--> 438\u001b[0;31m                     \u001b[0mself\u001b[0m\u001b[0;34m.\u001b[0m\u001b[0mtell\u001b[0m\u001b[0;34m(\u001b[0m\u001b[0mx\u001b[0m\u001b[0;34m,\u001b[0m \u001b[0mresult\u001b[0m\u001b[0;34m)\u001b[0m\u001b[0;34m\u001b[0m\u001b[0;34m\u001b[0m\u001b[0m\n\u001b[0m\u001b[1;32m    439\u001b[0m                     \u001b[0mself\u001b[0m\u001b[0;34m.\u001b[0m\u001b[0m_finished_jobs\u001b[0m\u001b[0;34m.\u001b[0m\u001b[0mpopleft\u001b[0m\u001b[0;34m(\u001b[0m\u001b[0;34m)\u001b[0m  \u001b[0;31m# remove it after the tell to make sure it was indeed \"told\" (in case of interruption)\u001b[0m\u001b[0;34m\u001b[0m\u001b[0;34m\u001b[0m\u001b[0m\n\u001b[1;32m    440\u001b[0m                     \u001b[0;32mif\u001b[0m \u001b[0mverbosity\u001b[0m\u001b[0;34m:\u001b[0m\u001b[0;34m\u001b[0m\u001b[0;34m\u001b[0m\u001b[0m\n",
      "\u001b[0;32m~/miniconda3/envs/pytorch/lib/python3.6/site-packages/nevergrad/optimization/base.py\u001b[0m in \u001b[0;36mtell\u001b[0;34m(self, candidate, value)\u001b[0m\n\u001b[1;32m    245\u001b[0m         \u001b[0mself\u001b[0m\u001b[0;34m.\u001b[0m\u001b[0m_update_archive_and_bests\u001b[0m\u001b[0;34m(\u001b[0m\u001b[0mdata\u001b[0m\u001b[0;34m,\u001b[0m \u001b[0mvalue\u001b[0m\u001b[0;34m)\u001b[0m\u001b[0;34m\u001b[0m\u001b[0;34m\u001b[0m\u001b[0m\n\u001b[1;32m    246\u001b[0m         \u001b[0;32mif\u001b[0m \u001b[0mcandidate\u001b[0m\u001b[0;34m.\u001b[0m\u001b[0muid\u001b[0m \u001b[0;32min\u001b[0m \u001b[0mself\u001b[0m\u001b[0;34m.\u001b[0m\u001b[0m_asked\u001b[0m\u001b[0;34m:\u001b[0m\u001b[0;34m\u001b[0m\u001b[0;34m\u001b[0m\u001b[0m\n\u001b[0;32m--> 247\u001b[0;31m             \u001b[0mself\u001b[0m\u001b[0;34m.\u001b[0m\u001b[0m_internal_tell_candidate\u001b[0m\u001b[0;34m(\u001b[0m\u001b[0mcandidate\u001b[0m\u001b[0;34m,\u001b[0m \u001b[0mvalue\u001b[0m\u001b[0;34m)\u001b[0m\u001b[0;34m\u001b[0m\u001b[0;34m\u001b[0m\u001b[0m\n\u001b[0m\u001b[1;32m    248\u001b[0m             \u001b[0mself\u001b[0m\u001b[0;34m.\u001b[0m\u001b[0m_asked\u001b[0m\u001b[0;34m.\u001b[0m\u001b[0mremove\u001b[0m\u001b[0;34m(\u001b[0m\u001b[0mcandidate\u001b[0m\u001b[0;34m.\u001b[0m\u001b[0muid\u001b[0m\u001b[0;34m)\u001b[0m\u001b[0;34m\u001b[0m\u001b[0;34m\u001b[0m\u001b[0m\n\u001b[1;32m    249\u001b[0m         \u001b[0;32melse\u001b[0m\u001b[0;34m:\u001b[0m\u001b[0;34m\u001b[0m\u001b[0;34m\u001b[0m\u001b[0m\n",
      "\u001b[0;32m~/miniconda3/envs/pytorch/lib/python3.6/site-packages/nevergrad/optimization/base.py\u001b[0m in \u001b[0;36m_internal_tell_candidate\u001b[0;34m(self, candidate, value)\u001b[0m\n\u001b[1;32m    352\u001b[0m         \"\"\"\n\u001b[1;32m    353\u001b[0m         \u001b[0mdata\u001b[0m \u001b[0;34m=\u001b[0m \u001b[0mcandidate\u001b[0m\u001b[0;34m.\u001b[0m\u001b[0mget_standardized_data\u001b[0m\u001b[0;34m(\u001b[0m\u001b[0mreference\u001b[0m\u001b[0;34m=\u001b[0m\u001b[0mself\u001b[0m\u001b[0;34m.\u001b[0m\u001b[0mparametrization\u001b[0m\u001b[0;34m)\u001b[0m\u001b[0;34m\u001b[0m\u001b[0;34m\u001b[0m\u001b[0m\n\u001b[0;32m--> 354\u001b[0;31m         \u001b[0mself\u001b[0m\u001b[0;34m.\u001b[0m\u001b[0m_internal_tell\u001b[0m\u001b[0;34m(\u001b[0m\u001b[0mdata\u001b[0m\u001b[0;34m,\u001b[0m \u001b[0mvalue\u001b[0m\u001b[0;34m)\u001b[0m\u001b[0;34m\u001b[0m\u001b[0;34m\u001b[0m\u001b[0m\n\u001b[0m\u001b[1;32m    355\u001b[0m \u001b[0;34m\u001b[0m\u001b[0m\n\u001b[1;32m    356\u001b[0m     \u001b[0;32mdef\u001b[0m \u001b[0m_internal_ask_candidate\u001b[0m\u001b[0;34m(\u001b[0m\u001b[0mself\u001b[0m\u001b[0;34m)\u001b[0m \u001b[0;34m->\u001b[0m \u001b[0mp\u001b[0m\u001b[0;34m.\u001b[0m\u001b[0mParameter\u001b[0m\u001b[0;34m:\u001b[0m\u001b[0;34m\u001b[0m\u001b[0;34m\u001b[0m\u001b[0m\n",
      "\u001b[0;32m~/miniconda3/envs/pytorch/lib/python3.6/site-packages/nevergrad/optimization/optimizerlib.py\u001b[0m in \u001b[0;36m_internal_tell\u001b[0;34m(self, x, value)\u001b[0m\n\u001b[1;32m    234\u001b[0m                     \u001b[0mself\u001b[0m\u001b[0;34m.\u001b[0m\u001b[0mes\u001b[0m\u001b[0;34m.\u001b[0m\u001b[0mtell\u001b[0m\u001b[0;34m(\u001b[0m\u001b[0mself\u001b[0m\u001b[0;34m.\u001b[0m\u001b[0mlisty\u001b[0m\u001b[0;34m,\u001b[0m \u001b[0mself\u001b[0m\u001b[0;34m.\u001b[0m\u001b[0mlistx\u001b[0m\u001b[0;34m)\u001b[0m\u001b[0;34m\u001b[0m\u001b[0;34m\u001b[0m\u001b[0m\n\u001b[1;32m    235\u001b[0m                 \u001b[0;32melse\u001b[0m\u001b[0;34m:\u001b[0m\u001b[0;34m\u001b[0m\u001b[0;34m\u001b[0m\u001b[0m\n\u001b[0;32m--> 236\u001b[0;31m                     \u001b[0mself\u001b[0m\u001b[0;34m.\u001b[0m\u001b[0mes\u001b[0m\u001b[0;34m.\u001b[0m\u001b[0mtell\u001b[0m\u001b[0;34m(\u001b[0m\u001b[0mself\u001b[0m\u001b[0;34m.\u001b[0m\u001b[0mlistx\u001b[0m\u001b[0;34m,\u001b[0m \u001b[0mself\u001b[0m\u001b[0;34m.\u001b[0m\u001b[0mlisty\u001b[0m\u001b[0;34m)\u001b[0m\u001b[0;34m\u001b[0m\u001b[0;34m\u001b[0m\u001b[0m\n\u001b[0m\u001b[1;32m    237\u001b[0m             \u001b[0;32mexcept\u001b[0m \u001b[0mRuntimeError\u001b[0m\u001b[0;34m:\u001b[0m\u001b[0;34m\u001b[0m\u001b[0;34m\u001b[0m\u001b[0m\n\u001b[1;32m    238\u001b[0m                 \u001b[0;32mpass\u001b[0m\u001b[0;34m\u001b[0m\u001b[0;34m\u001b[0m\u001b[0m\n",
      "\u001b[0;32m~/miniconda3/envs/pytorch/lib/python3.6/site-packages/cma/evolution_strategy.py\u001b[0m in \u001b[0;36mtell\u001b[0;34m(self, solutions, function_values, check_points, copy)\u001b[0m\n\u001b[1;32m   2775\u001b[0m                     copy_if_changed=False), copy=False)\n\u001b[1;32m   2776\u001b[0m         \u001b[0;32mif\u001b[0m \u001b[0m_new_injections\u001b[0m\u001b[0;34m:\u001b[0m\u001b[0;34m\u001b[0m\u001b[0;34m\u001b[0m\u001b[0m\n\u001b[0;32m-> 2777\u001b[0;31m             \u001b[0mself\u001b[0m\u001b[0;34m.\u001b[0m\u001b[0mpop_injection_directions\u001b[0m \u001b[0;34m=\u001b[0m \u001b[0mself\u001b[0m\u001b[0;34m.\u001b[0m\u001b[0m_prepare_injection_directions\u001b[0m\u001b[0;34m(\u001b[0m\u001b[0;34m)\u001b[0m\u001b[0;34m\u001b[0m\u001b[0;34m\u001b[0m\u001b[0m\n\u001b[0m\u001b[1;32m   2778\u001b[0m             \u001b[0;32mif\u001b[0m \u001b[0mself\u001b[0m\u001b[0;34m.\u001b[0m\u001b[0mopts\u001b[0m\u001b[0;34m[\u001b[0m\u001b[0;34m'verbose'\u001b[0m\u001b[0;34m]\u001b[0m \u001b[0;34m>\u001b[0m \u001b[0;36m4\u001b[0m \u001b[0;32mand\u001b[0m \u001b[0mself\u001b[0m\u001b[0;34m.\u001b[0m\u001b[0mcountiter\u001b[0m \u001b[0;34m<\u001b[0m \u001b[0;36m3\u001b[0m \u001b[0;32mand\u001b[0m \u001b[0mtype\u001b[0m\u001b[0;34m(\u001b[0m\u001b[0mself\u001b[0m\u001b[0;34m.\u001b[0m\u001b[0madapt_sigma\u001b[0m\u001b[0;34m)\u001b[0m \u001b[0;32mis\u001b[0m \u001b[0;32mnot\u001b[0m \u001b[0mCMAAdaptSigmaTPA\u001b[0m \u001b[0;32mand\u001b[0m \u001b[0mlen\u001b[0m\u001b[0;34m(\u001b[0m\u001b[0mself\u001b[0m\u001b[0;34m.\u001b[0m\u001b[0mpop_injection_directions\u001b[0m\u001b[0;34m)\u001b[0m\u001b[0;34m:\u001b[0m\u001b[0;34m\u001b[0m\u001b[0;34m\u001b[0m\u001b[0m\n\u001b[1;32m   2779\u001b[0m                 utils.print_message('   %d directions prepared for injection %s' %\n",
      "\u001b[0;32m~/miniconda3/envs/pytorch/lib/python3.6/site-packages/cma/evolution_strategy.py\u001b[0m in \u001b[0;36m_prepare_injection_directions\u001b[0;34m(self)\u001b[0m\n\u001b[1;32m   2304\u001b[0m         \u001b[0;32mreturn\u001b[0m \u001b[0mX\u001b[0m\u001b[0;34m,\u001b[0m \u001b[0mfit\u001b[0m\u001b[0;34m\u001b[0m\u001b[0;34m\u001b[0m\u001b[0m\n\u001b[1;32m   2305\u001b[0m \u001b[0;34m\u001b[0m\u001b[0m\n\u001b[0;32m-> 2306\u001b[0;31m     \u001b[0;32mdef\u001b[0m \u001b[0m_prepare_injection_directions\u001b[0m\u001b[0;34m(\u001b[0m\u001b[0mself\u001b[0m\u001b[0;34m)\u001b[0m\u001b[0;34m:\u001b[0m\u001b[0;34m\u001b[0m\u001b[0;34m\u001b[0m\u001b[0m\n\u001b[0m\u001b[1;32m   2307\u001b[0m         \"\"\"provide genotypic directions for TPA and selective mirroring,\n\u001b[1;32m   2308\u001b[0m         \u001b[0;32mwith\u001b[0m \u001b[0mno\u001b[0m \u001b[0mspecific\u001b[0m \u001b[0mlength\u001b[0m \u001b[0mnormalization\u001b[0m\u001b[0;34m,\u001b[0m \u001b[0mto\u001b[0m \u001b[0mbe\u001b[0m \u001b[0mused\u001b[0m \u001b[0;32min\u001b[0m \u001b[0mthe\u001b[0m\u001b[0;34m\u001b[0m\u001b[0;34m\u001b[0m\u001b[0m\n",
      "\u001b[0;31mKeyboardInterrupt\u001b[0m: "
     ]
    }
   ],
   "source": [
    "def optimize():\n",
    "    beta0 = 0.38 #d^{-1}\n",
    "    R0 = 3.07\n",
    "    alpha0 = R0*beta0\n",
    "    #k0_0 = 1e-1\n",
    "    #k_0 = 0.0\n",
    "\n",
    "    alpha = ng.p.Scalar()\n",
    "    alpha.value = alpha0\n",
    "    alpha.value = 0.8921533322357904\n",
    "    beta = ng.p.Scalar()\n",
    "    beta.value = beta0\n",
    "    beta.value = 0.6006857701497142\n",
    "    I0 = ng.p.Scalar()\n",
    "    I0.value = 1e-8\n",
    "    I0.value = 2.0638693642381589e-07\n",
    "    k0 = ng.p.Scalar()\n",
    "    k = ng.p.Scalar()\n",
    "    alpha.set_bounds(0.0, 10.0)\n",
    "    beta.set_bounds(5e-2, 2.0)\n",
    "    I0.set_bounds(0.0, 1e-4)\n",
    "    k0.value = 1e-5\n",
    "    k.value = 1e-5\n",
    "    k0.value = 0.003774752347706235\n",
    "    k.value = 0.018991858675810148\n",
    "    #k0.set_bounds(0, 5e-2)\n",
    "    #k.set_bounds(0, 5e-2)\n",
    "    k0.set_bounds(0, 0.1)\n",
    "    k.set_bounds(0, 0.1)\n",
    "\n",
    "    instru = ng.p.Instrumentation(alpha, beta, k0, k, I0)\n",
    "    optimizer = ng.optimizers.CMA(parametrization=instru, budget=20000, num_workers=6) # num_workers don't work :(\n",
    "    #optimizer = ng.optimizers.CMA(parametrization=instru, budget=500000)\n",
    "\n",
    "    recommendation = optimizer.minimize(loss_fn)\n",
    "    #recommendation = optimizer.minimize(compute_fit)\n",
    "    return recommendation\n",
    "\n",
    "max_err = 1e100\n",
    "for _ in range(30):\n",
    "    print('.')\n",
    "    recommendation = optimize()\n",
    "    err = loss_fn(*recommendation.value[0])\n",
    "    if err < max_err:\n",
    "        max_err = err\n",
    "        vals = recommendation.value[0]\n",
    "        \n",
    "max_err, vals\n",
    "    "
   ]
  },
  {
   "cell_type": "code",
   "execution_count": 11,
   "metadata": {
    "Collapsed": "false"
   },
   "outputs": [
    {
     "data": {
      "image/png": "[encoded data removed]",
      "text/plain": [
       "<Figure size 720x576 with 1 Axes>"
      ]
     },
     "metadata": {},
     "output_type": "display_data"
    }
   ],
   "source": [
    "num_days = 80\n",
    "time_scale = np.linspace(-len(true_cases)+1, num_days - len(true_cases), num_days)\n",
    "time_scale_true = np.linspace(-len(true_cases)+1 , -1, len(true_cases))\n",
    "plt.figure(figsize=(10, 8))\n",
    "vals = (1.2173437044675621,\n",
    "  0.9855553151918058,\n",
    "  0.0,\n",
    "  0.00022902367817583327,\n",
    "  2.7873569184833206e-05)\n",
    "alpha_g, beta_g, k0_g, k_g, I0_g = vals\n",
    "plt.plot(time_scale, population[Country]*obs(alpha_g, beta_g, k0_g, k_g, I0_g, N=num_days, cf=1), \"-\", label=\"predicted\");\n",
    "plt.plot(time_scale_true, population[Country]*true_cases, \"o\", label=\"true\");\n",
    "plt.legend();\n",
    "plt.title('reported cases');\n",
    "plt.yscale('log')"
   ]
  },
  {
   "cell_type": "code",
   "execution_count": 16,
   "metadata": {
    "Collapsed": "false"
   },
   "outputs": [
    {
     "data": {
      "text/plain": [
       "array([   3.,    3.,    3.,    4.,   13.,   13.,   17.,   17.,   20.,\n",
       "         20.,   28.,   45.,   59.,   63.,   90.,  114.,  147.,  199.,\n",
       "        253.,  306.,  367.,  438.,  495.,  658.,  840., 1036., 1264.,\n",
       "       1534., 1836., 2337., 2777.])"
      ]
     },
     "execution_count": 16,
     "metadata": {},
     "output_type": "execute_result"
    }
   ],
   "source": [
    "population[Country]*true_cases"
   ]
  },
  {
   "cell_type": "code",
   "execution_count": null,
   "metadata": {
    "Collapsed": "false"
   },
   "outputs": [],
   "source": []
  },
  {
   "cell_type": "code",
   "execution_count": 12,
   "metadata": {
    "Collapsed": "false"
   },
   "outputs": [
    {
     "data": {
      "image/png": "[encoded data removed]",
      "text/plain": [
       "<Figure size 720x576 with 1 Axes>"
      ]
     },
     "metadata": {},
     "output_type": "display_data"
    }
   ],
   "source": [
    "plt.figure(figsize=(10, 8))\n",
    "vals = (1.2173437044675621,\n",
    "  0.9855553151918058,\n",
    "  0.0,\n",
    "  0.00022902367817583327,\n",
    "  2.7873569184833206e-05)\n",
    "alpha_g, beta_g, k0_g, k_g, I0_g = vals\n",
    "plt.plot(time_scale, population[Country]*obs(alpha_g, beta_g, k0_g, k_g, I0_g, N=80, type_ret=1), \"-\", label=\"predicted\");\n",
    "plt.legend();\n",
    "plt.title('infected');\n",
    "plt.yscale('log');"
   ]
  },
  {
   "cell_type": "code",
   "execution_count": 14,
   "metadata": {
    "Collapsed": "false"
   },
   "outputs": [
    {
     "data": {
      "image/png": "[encoded data removed]",
      "text/plain": [
       "<Figure size 720x576 with 1 Axes>"
      ]
     },
     "metadata": {},
     "output_type": "display_data"
    }
   ],
   "source": [
    "plt.figure(figsize=(10, 8))\n",
    "\n",
    "vals = (1.2173437044675621,\n",
    "  0.9855553151918058,\n",
    "  1e-3,\n",
    "  0.00022902367817583327,\n",
    "  2.7873569184833206e-05)\n",
    "alpha_g, beta_g, k0_g, k_g, I0_g = vals\n",
    "\n",
    "plt.plot(time_scale, population[Country]*obs(alpha_g, beta_g, k0_g+1e-2, k_g, I0_g, N=80, type_ret=1), \"-\", label=\"predicted\");\n",
    "plt.legend();\n",
    "plt.title('infected with measures taken');\n",
    "plt.yscale('log');"
   ]
  },
  {
   "cell_type": "code",
   "execution_count": 15,
   "metadata": {
    "Collapsed": "false"
   },
   "outputs": [
    {
     "ename": "NameError",
     "evalue": "name 'recommendation' is not defined",
     "output_type": "error",
     "traceback": [
      "\u001b[0;31m---------------------------------------------------------------------------\u001b[0m",
      "\u001b[0;31mNameError\u001b[0m                                 Traceback (most recent call last)",
      "\u001b[0;32m<ipython-input-15-3d8a6909bec9>\u001b[0m in \u001b[0;36m<module>\u001b[0;34m()\u001b[0m\n\u001b[0;32m----> 1\u001b[0;31m \u001b[0mrecommendation\u001b[0m\u001b[0;34m.\u001b[0m\u001b[0mvalue\u001b[0m\u001b[0;34m[\u001b[0m\u001b[0;36m0\u001b[0m\u001b[0;34m]\u001b[0m\u001b[0;34m\u001b[0m\u001b[0;34m\u001b[0m\u001b[0m\n\u001b[0m",
      "\u001b[0;31mNameError\u001b[0m: name 'recommendation' is not defined"
     ]
    }
   ],
   "source": [
    "recommendation.value[0]"
   ]
  },
  {
   "cell_type": "code",
   "execution_count": 67,
   "metadata": {
    "Collapsed": "false"
   },
   "outputs": [],
   "source": [
    "good_vals_1 = (0.8921533322357904,\n",
    " 0.6006857701497142,\n",
    " 0.003774752347706235,\n",
    " 0.018991858675810148,\n",
    " 2.0638693642381589e-07)\n",
    "\n",
    "good_vals_2 = (1.4620735715158846,\n",
    " 1.1550524698389562,\n",
    " 0.00012016896136317736,\n",
    " 0.09431369871672939,\n",
    " 8.85266762057214e-08)\n"
   ]
  },
  {
   "cell_type": "code",
   "execution_count": null,
   "metadata": {
    "Collapsed": "false"
   },
   "outputs": [],
   "source": [
    "(0.7028386750218786, 0.5248873953209352, 0.0026616813473804538, 0.0, 1e-05)"
   ]
  },
  {
   "cell_type": "code",
   "execution_count": 69,
   "metadata": {
    "Collapsed": "false"
   },
   "outputs": [
    {
     "data": {
      "text/plain": [
       "(2.938729818873531e-06, 5.876705339440785e-07)"
      ]
     },
     "execution_count": 69,
     "metadata": {},
     "output_type": "execute_result"
    }
   ],
   "source": [
    "loss_fn(*good_vals_1), loss_fn(*recommendation.value[0])"
   ]
  },
  {
   "cell_type": "code",
   "execution_count": 62,
   "metadata": {
    "Collapsed": "false"
   },
   "outputs": [
    {
     "name": "stdout",
     "output_type": "stream",
     "text": [
      "['ASCMA2PDEthird', 'ASCMADEQRthird', 'ASCMADEthird', 'AlmostRotationInvariantDE', 'BO', 'CM', 'CMA', 'CMandAS', 'CMandAS2', 'CMandAS3', 'CauchyLHSSearch', 'CauchyOnePlusOne', 'CauchyScrHammersleySearch', 'Cobyla', 'DE', 'DiagonalCMA', 'DiscreteOnePlusOne', 'DoubleFastGADiscreteOnePlusOne', 'EDA', 'ES', 'FCMA', 'HaltonSearch', 'HaltonSearchPlusMiddlePoint', 'HammersleySearch', 'HammersleySearchPlusMiddlePoint', 'LHSSearch', 'LargeHaltonSearch', 'LhsDE', 'MEDA', 'MPCEDA', 'MetaRecentering', 'MixES', 'MultiCMA', 'MultiScaleCMA', 'MutDE', 'NGO', 'NaiveIsoEMNA', 'NaiveTBPSA', 'NelderMead', 'NoisyBandit', 'NoisyDE', 'NoisyDiscreteOnePlusOne', 'NoisyOnePlusOne', 'ORandomSearch', 'OScrHammersleySearch', 'OnePlusOne', 'OptimisticDiscreteOnePlusOne', 'OptimisticNoisyOnePlusOne', 'PBIL', 'PCEDA', 'PSO', 'ParaPortfolio', 'Portfolio', 'Powell', 'QORandomSearch', 'QOScrHammersleySearch', 'QrDE', 'RCobyla', 'RPowell', 'RSQP', 'RandomSearch', 'RandomSearchPlusMiddlePoint', 'RealSpacePSO', 'RecES', 'RecMixES', 'RecMutDE', 'RecombiningPortfolioOptimisticNoisyDiscreteOnePlusOne', 'RotationInvariantDE', 'SPSA', 'SQP', 'SQPCMA', 'ScrHaltonSearch', 'ScrHaltonSearchPlusMiddlePoint', 'ScrHammersleySearch', 'ScrHammersleySearchPlusMiddlePoint', 'Shiva', 'SplitOptimizer', 'TBPSA', 'TripleCMA', 'TwoPointsDE', 'cGA', 'chainCMAPowell']\n"
     ]
    }
   ],
   "source": [
    "print(sorted(ng.optimizers.registry.keys()))"
   ]
  },
  {
   "cell_type": "code",
   "execution_count": 138,
   "metadata": {
    "Collapsed": "false"
   },
   "outputs": [
    {
     "data": {
      "text/plain": [
       "array([0.  , 0.25, 0.5 , 0.75, 1.  , 1.25, 1.5 , 1.75, 2.  , 2.25, 2.5 , 2.75, 3.  , 3.25, 3.5 , 3.75, 4.  , 4.25,\n",
       "       4.5 , 4.75, 5.  , 5.25, 5.5 , 5.75, 6.  , 6.25, 6.5 , 6.75, 7.  , 7.25, 7.5 , 7.75, 8.  ])"
      ]
     },
     "execution_count": 138,
     "metadata": {},
     "output_type": "execute_result"
    }
   ],
   "source": [
    "cf = 4\n",
    "N = 9\n",
    "dt = 1.0/cf\n",
    "num = (N-1)*cf\n",
    "t_max = (num)*dt\n",
    "t = np.linspace(0, t_max, num+1)\n",
    "t"
   ]
  },
  {
   "cell_type": "code",
   "execution_count": 139,
   "metadata": {
    "Collapsed": "false"
   },
   "outputs": [
    {
     "data": {
      "text/plain": [
       "array([0., 1., 2., 3., 4., 5., 6., 7., 8.])"
      ]
     },
     "execution_count": 139,
     "metadata": {},
     "output_type": "execute_result"
    }
   ],
   "source": [
    "t[::cf]"
   ]
  },
  {
   "cell_type": "code",
   "execution_count": null,
   "metadata": {
    "Collapsed": "false"
   },
   "outputs": [],
   "source": []
  }
 ],
 "metadata": {
  "kernelspec": {
   "display_name": "Python 3",
   "language": "python",
   "name": "python3"
  },
  "language_info": {
   "codemirror_mode": {
    "name": "ipython",
    "version": 3
   },
   "file_extension": ".py",
   "mimetype": "text/x-python",
   "name": "python",
   "nbconvert_exporter": "python",
   "pygments_lexer": "ipython3",
   "version": "3.6.8"
  }
 },
 "nbformat": 4,
 "nbformat_minor": 4
}
